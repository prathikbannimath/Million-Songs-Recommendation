{
  "nbformat": 4,
  "nbformat_minor": 0,
  "metadata": {
    "colab": {
      "name": "Stock Price Prediction.ipynb",
      "provenance": [],
      "collapsed_sections": [],
      "authorship_tag": "ABX9TyNGlQJUDhz20fkGl7hZBzhQ",
      "include_colab_link": true
    },
    "kernelspec": {
      "name": "python3",
      "display_name": "Python 3"
    },
    "language_info": {
      "name": "python"
    }
  },
  "cells": [
    {
      "cell_type": "markdown",
      "metadata": {
        "id": "view-in-github",
        "colab_type": "text"
      },
      "source": [
        "<a href=\"https://colab.research.google.com/github/prathikbannimath/Million-Songs-Recommendation/blob/main/Stock_Price_Prediction.ipynb\" target=\"_parent\"><img src=\"https://colab.research.google.com/assets/colab-badge.svg\" alt=\"Open In Colab\"/></a>"
      ]
    },
    {
      "cell_type": "markdown",
      "metadata": {
        "id": "vYAlYIW2BX4P"
      },
      "source": [
        "###\n",
        "Prediction of stock prices using rnn and lstm \n"
      ]
    },
    {
      "cell_type": "code",
      "metadata": {
        "id": "HyXHXgBqAqyK"
      },
      "source": [
        "#importing libraries\n",
        "import math\n",
        "import pandas as pd\n",
        "import pandas_datareader as pdd\n",
        "import numpy as np\n",
        "import matplotlib.pyplot as plt\n",
        "from sklearn.preprocessing import MinMaxScaler\n",
        "from keras.models import Sequential\n",
        "from keras.layers import Dense, LSTM\n",
        "import matplotlib.pyplot as plt\n",
        "plt.style.use('fivethirtyeight')\n",
        "\n"
      ],
      "execution_count": 1,
      "outputs": []
    },
    {
      "cell_type": "code",
      "metadata": {
        "colab": {
          "base_uri": "https://localhost:8080/",
          "height": 235
        },
        "id": "FIGcNxPtFVpe",
        "outputId": "79a2d489-a4fe-47d0-c2eb-d6788b510eb3"
      },
      "source": [
        "#Get the Stock Quote\n",
        "df = pdd.DataReader('AAPL', data_source = 'yahoo', start = '2012-01-01', end = '2019-12-17')\n",
        "#show the data\n",
        "df.head() "
      ],
      "execution_count": 4,
      "outputs": [
        {
          "output_type": "execute_result",
          "data": {
            "text/html": [
              "<div>\n",
              "<style scoped>\n",
              "    .dataframe tbody tr th:only-of-type {\n",
              "        vertical-align: middle;\n",
              "    }\n",
              "\n",
              "    .dataframe tbody tr th {\n",
              "        vertical-align: top;\n",
              "    }\n",
              "\n",
              "    .dataframe thead th {\n",
              "        text-align: right;\n",
              "    }\n",
              "</style>\n",
              "<table border=\"1\" class=\"dataframe\">\n",
              "  <thead>\n",
              "    <tr style=\"text-align: right;\">\n",
              "      <th></th>\n",
              "      <th>High</th>\n",
              "      <th>Low</th>\n",
              "      <th>Open</th>\n",
              "      <th>Close</th>\n",
              "      <th>Volume</th>\n",
              "      <th>Adj Close</th>\n",
              "    </tr>\n",
              "    <tr>\n",
              "      <th>Date</th>\n",
              "      <th></th>\n",
              "      <th></th>\n",
              "      <th></th>\n",
              "      <th></th>\n",
              "      <th></th>\n",
              "      <th></th>\n",
              "    </tr>\n",
              "  </thead>\n",
              "  <tbody>\n",
              "    <tr>\n",
              "      <th>2012-01-03</th>\n",
              "      <td>14.732143</td>\n",
              "      <td>14.607143</td>\n",
              "      <td>14.621429</td>\n",
              "      <td>14.686786</td>\n",
              "      <td>302220800.0</td>\n",
              "      <td>12.629209</td>\n",
              "    </tr>\n",
              "    <tr>\n",
              "      <th>2012-01-04</th>\n",
              "      <td>14.810000</td>\n",
              "      <td>14.617143</td>\n",
              "      <td>14.642857</td>\n",
              "      <td>14.765714</td>\n",
              "      <td>260022000.0</td>\n",
              "      <td>12.697079</td>\n",
              "    </tr>\n",
              "    <tr>\n",
              "      <th>2012-01-05</th>\n",
              "      <td>14.948214</td>\n",
              "      <td>14.738214</td>\n",
              "      <td>14.819643</td>\n",
              "      <td>14.929643</td>\n",
              "      <td>271269600.0</td>\n",
              "      <td>12.838044</td>\n",
              "    </tr>\n",
              "    <tr>\n",
              "      <th>2012-01-06</th>\n",
              "      <td>15.098214</td>\n",
              "      <td>14.972143</td>\n",
              "      <td>14.991786</td>\n",
              "      <td>15.085714</td>\n",
              "      <td>318292800.0</td>\n",
              "      <td>12.972249</td>\n",
              "    </tr>\n",
              "    <tr>\n",
              "      <th>2012-01-09</th>\n",
              "      <td>15.276786</td>\n",
              "      <td>15.048214</td>\n",
              "      <td>15.196429</td>\n",
              "      <td>15.061786</td>\n",
              "      <td>394024400.0</td>\n",
              "      <td>12.951672</td>\n",
              "    </tr>\n",
              "  </tbody>\n",
              "</table>\n",
              "</div>"
            ],
            "text/plain": [
              "                 High        Low       Open      Close       Volume  Adj Close\n",
              "Date                                                                          \n",
              "2012-01-03  14.732143  14.607143  14.621429  14.686786  302220800.0  12.629209\n",
              "2012-01-04  14.810000  14.617143  14.642857  14.765714  260022000.0  12.697079\n",
              "2012-01-05  14.948214  14.738214  14.819643  14.929643  271269600.0  12.838044\n",
              "2012-01-06  15.098214  14.972143  14.991786  15.085714  318292800.0  12.972249\n",
              "2012-01-09  15.276786  15.048214  15.196429  15.061786  394024400.0  12.951672"
            ]
          },
          "metadata": {
            "tags": []
          },
          "execution_count": 4
        }
      ]
    },
    {
      "cell_type": "code",
      "metadata": {
        "colab": {
          "base_uri": "https://localhost:8080/"
        },
        "id": "A-h9x0H2FvfN",
        "outputId": "d7941787-b013-49a5-c379-6bfbca62f59b"
      },
      "source": [
        "#getting the number of shows and colums\n",
        "df.shape"
      ],
      "execution_count": 5,
      "outputs": [
        {
          "output_type": "execute_result",
          "data": {
            "text/plain": [
              "(2003, 6)"
            ]
          },
          "metadata": {
            "tags": []
          },
          "execution_count": 5
        }
      ]
    },
    {
      "cell_type": "code",
      "metadata": {
        "colab": {
          "base_uri": "https://localhost:8080/",
          "height": 539
        },
        "id": "rRXkty-iGu3Q",
        "outputId": "816649ea-4f8f-432f-d6ae-677b64340eda"
      },
      "source": [
        "# Visualize the close price history\n",
        "plt.figure(figsize=(16,8))\n",
        "plt.title('Close Price Movement',fontsize=20)\n",
        "plt.plot(df['Close'])\n",
        "plt.xlabel('Date', fontsize = 18)\n",
        "plt.ylabel('Close Price USD', fontsize = 18)\n",
        "plt.show"
      ],
      "execution_count": 6,
      "outputs": [
        {
          "output_type": "execute_result",
          "data": {
            "text/plain": [
              "<function matplotlib.pyplot.show>"
            ]
          },
          "metadata": {
            "tags": []
          },
          "execution_count": 6
        },
        {
          "output_type": "display_data",
          "data": {
            "image/png": "[encoded data removed]",
            "text/plain": [
              "<Figure size 1152x576 with 1 Axes>"
            ]
          },
          "metadata": {
            "tags": [],
            "needs_background": "light"
          }
        }
      ]
    },
    {
      "cell_type": "code",
      "metadata": {
        "colab": {
          "base_uri": "https://localhost:8080/"
        },
        "id": "xmA_B1-QJizn",
        "outputId": "dd4b5582-668b-45d0-a1d7-b698b39af122"
      },
      "source": [
        "#Create a new dataframe with only 'Close Colum'\n",
        "data = df.filter(['Close'])\n",
        "dataset = data.values\n",
        "#Get the number of rows to train the model on\n",
        "training_data_len = math.ceil( len(dataset)* .8)\n",
        "training_data_len"
      ],
      "execution_count": 8,
      "outputs": [
        {
          "output_type": "execute_result",
          "data": {
            "text/plain": [
              "1603"
            ]
          },
          "metadata": {
            "tags": []
          },
          "execution_count": 8
        }
      ]
    },
    {
      "cell_type": "code",
      "metadata": {
        "colab": {
          "base_uri": "https://localhost:8080/"
        },
        "id": "1YOQasAyKPhU",
        "outputId": "6aa35af1-48ea-48ed-cde1-b91f41be66ca"
      },
      "source": [
        "# Normalise the data to values between 0 and 1 (Scaling the data)\n",
        "scaler= MinMaxScaler(feature_range = (0,1))\n",
        "scaled_data = scaler.fit_transform(dataset)\n",
        "scaled_data"
      ],
      "execution_count": 9,
      "outputs": [
        {
          "output_type": "execute_result",
          "data": {
            "text/plain": [
              "array([[0.01316509],\n",
              "       [0.01457063],\n",
              "       [0.01748985],\n",
              "       ...,\n",
              "       [0.97658263],\n",
              "       [0.99755134],\n",
              "       [1.        ]])"
            ]
          },
          "metadata": {
            "tags": []
          },
          "execution_count": 9
        }
      ]
    },
    {
      "cell_type": "code",
      "metadata": {
        "colab": {
          "base_uri": "https://localhost:8080/"
        },
        "id": "n9lzi2Z-K0VI",
        "outputId": "25c92ae5-3e6f-4b83-b36d-89327f794301"
      },
      "source": [
        "# Specifying the shape of the input. Lshm must be in 3d (Creating the scaled dataset)\n",
        "train_data = scaled_data[0:training_data_len, :]\n",
        "#splitting the training set into x variable and y variable\n",
        "x_train = []\n",
        "y_train = []\n",
        "for i in range(60, len(train_data)):\n",
        "  x_train.append(train_data[i-60: i])\n",
        "  y_train.append(train_data[i,0])\n",
        "  if i<=61:\n",
        "    print(x_train)\n",
        "    print(y_train)\n",
        "    print()\n"
      ],
      "execution_count": 12,
      "outputs": [
        {
          "output_type": "stream",
          "text": [
            "[array([[0.01316509],\n",
            "       [0.01457063],\n",
            "       [0.01748985],\n",
            "       [0.02026915],\n",
            "       [0.01984303],\n",
            "       [0.02080338],\n",
            "       [0.02036454],\n",
            "       [0.01962679],\n",
            "       [0.01862191],\n",
            "       [0.02173194],\n",
            "       [0.02453668],\n",
            "       [0.02367172],\n",
            "       [0.01893355],\n",
            "       [0.02345548],\n",
            "       [0.01900352],\n",
            "       [0.03569838],\n",
            "       [0.03440732],\n",
            "       [0.0360927 ],\n",
            "       [0.03973694],\n",
            "       [0.04194384],\n",
            "       [0.0417594 ],\n",
            "       [0.0410789 ],\n",
            "       [0.04397903],\n",
            "       [0.04670744],\n",
            "       [0.04979839],\n",
            "       [0.05479095],\n",
            "       [0.0652785 ],\n",
            "       [0.06543749],\n",
            "       [0.07127594],\n",
            "       [0.07563885],\n",
            "       [0.06814049],\n",
            "       [0.07102789],\n",
            "       [0.07097066],\n",
            "       [0.07906688],\n",
            "       [0.07791571],\n",
            "       [0.08004628],\n",
            "       [0.08387497],\n",
            "       [0.08600558],\n",
            "       [0.09214292],\n",
            "       [0.09661394],\n",
            "       [0.09790501],\n",
            "       [0.09835659],\n",
            "       [0.09071194],\n",
            "       [0.08886753],\n",
            "       [0.08914103],\n",
            "       [0.09632778],\n",
            "       [0.09835024],\n",
            "       [0.10269409],\n",
            "       [0.11293358],\n",
            "       [0.12659476],\n",
            "       [0.12403805],\n",
            "       [0.1240444 ],\n",
            "       [0.13392141],\n",
            "       [0.13701237],\n",
            "       [0.13481179],\n",
            "       [0.13280207],\n",
            "       [0.13070964],\n",
            "       [0.13766105],\n",
            "       [0.14243103],\n",
            "       [0.14442805]])]\n",
            "[0.13949272033425864]\n",
            "\n",
            "[array([[0.01316509],\n",
            "       [0.01457063],\n",
            "       [0.01748985],\n",
            "       [0.02026915],\n",
            "       [0.01984303],\n",
            "       [0.02080338],\n",
            "       [0.02036454],\n",
            "       [0.01962679],\n",
            "       [0.01862191],\n",
            "       [0.02173194],\n",
            "       [0.02453668],\n",
            "       [0.02367172],\n",
            "       [0.01893355],\n",
            "       [0.02345548],\n",
            "       [0.01900352],\n",
            "       [0.03569838],\n",
            "       [0.03440732],\n",
            "       [0.0360927 ],\n",
            "       [0.03973694],\n",
            "       [0.04194384],\n",
            "       [0.0417594 ],\n",
            "       [0.0410789 ],\n",
            "       [0.04397903],\n",
            "       [0.04670744],\n",
            "       [0.04979839],\n",
            "       [0.05479095],\n",
            "       [0.0652785 ],\n",
            "       [0.06543749],\n",
            "       [0.07127594],\n",
            "       [0.07563885],\n",
            "       [0.06814049],\n",
            "       [0.07102789],\n",
            "       [0.07097066],\n",
            "       [0.07906688],\n",
            "       [0.07791571],\n",
            "       [0.08004628],\n",
            "       [0.08387497],\n",
            "       [0.08600558],\n",
            "       [0.09214292],\n",
            "       [0.09661394],\n",
            "       [0.09790501],\n",
            "       [0.09835659],\n",
            "       [0.09071194],\n",
            "       [0.08886753],\n",
            "       [0.08914103],\n",
            "       [0.09632778],\n",
            "       [0.09835024],\n",
            "       [0.10269409],\n",
            "       [0.11293358],\n",
            "       [0.12659476],\n",
            "       [0.12403805],\n",
            "       [0.1240444 ],\n",
            "       [0.13392141],\n",
            "       [0.13701237],\n",
            "       [0.13481179],\n",
            "       [0.13280207],\n",
            "       [0.13070964],\n",
            "       [0.13766105],\n",
            "       [0.14243103],\n",
            "       [0.14442805]]), array([[0.01457063],\n",
            "       [0.01748985],\n",
            "       [0.02026915],\n",
            "       [0.01984303],\n",
            "       [0.02080338],\n",
            "       [0.02036454],\n",
            "       [0.01962679],\n",
            "       [0.01862191],\n",
            "       [0.02173194],\n",
            "       [0.02453668],\n",
            "       [0.02367172],\n",
            "       [0.01893355],\n",
            "       [0.02345548],\n",
            "       [0.01900352],\n",
            "       [0.03569838],\n",
            "       [0.03440732],\n",
            "       [0.0360927 ],\n",
            "       [0.03973694],\n",
            "       [0.04194384],\n",
            "       [0.0417594 ],\n",
            "       [0.0410789 ],\n",
            "       [0.04397903],\n",
            "       [0.04670744],\n",
            "       [0.04979839],\n",
            "       [0.05479095],\n",
            "       [0.0652785 ],\n",
            "       [0.06543749],\n",
            "       [0.07127594],\n",
            "       [0.07563885],\n",
            "       [0.06814049],\n",
            "       [0.07102789],\n",
            "       [0.07097066],\n",
            "       [0.07906688],\n",
            "       [0.07791571],\n",
            "       [0.08004628],\n",
            "       [0.08387497],\n",
            "       [0.08600558],\n",
            "       [0.09214292],\n",
            "       [0.09661394],\n",
            "       [0.09790501],\n",
            "       [0.09835659],\n",
            "       [0.09071194],\n",
            "       [0.08886753],\n",
            "       [0.08914103],\n",
            "       [0.09632778],\n",
            "       [0.09835024],\n",
            "       [0.10269409],\n",
            "       [0.11293358],\n",
            "       [0.12659476],\n",
            "       [0.12403805],\n",
            "       [0.1240444 ],\n",
            "       [0.13392141],\n",
            "       [0.13701237],\n",
            "       [0.13481179],\n",
            "       [0.13280207],\n",
            "       [0.13070964],\n",
            "       [0.13766105],\n",
            "       [0.14243103],\n",
            "       [0.14442805],\n",
            "       [0.13949272]])]\n",
            "[0.13949272033425864, 0.13293562570222134]\n",
            "\n"
          ],
          "name": "stdout"
        }
      ]
    },
    {
      "cell_type": "code",
      "metadata": {
        "colab": {
          "base_uri": "https://localhost:8080/"
        },
        "id": "8aP4-I3HMCsn",
        "outputId": "05960fd5-8b1d-49b0-8439-b4ae9cc7587e"
      },
      "source": [
        "# converge x_train and y_train to numpy array  to train the lshm model\n",
        "x_train, y_train = np.array(x_train), np.array(y_train)\n",
        "#reshaping the data \n",
        "x_train = np.reshape(x_train, (x_train.shape[0], x_train.shape[1], 1))\n",
        "x_train.shape"
      ],
      "execution_count": 13,
      "outputs": [
        {
          "output_type": "execute_result",
          "data": {
            "text/plain": [
              "(1543, 60, 1)"
            ]
          },
          "metadata": {
            "tags": []
          },
          "execution_count": 13
        }
      ]
    },
    {
      "cell_type": "code",
      "metadata": {
        "id": "m6fS0gWFNopP"
      },
      "source": [
        "#Building The LSTM model\n",
        "model = Sequential()\n",
        "model.add(LSTM (50, return_sequences = True, input_shape = (x_train.shape[1], 1)))\n",
        "model.add(LSTM (50, return_sequences = False))\n",
        "model.add(Dense(25))\n",
        "model.add(Dense(1))\n"
      ],
      "execution_count": 14,
      "outputs": []
    },
    {
      "cell_type": "code",
      "metadata": {
        "id": "JlOrgmXZOi8h"
      },
      "source": [
        "# Compile the model\n",
        "model.compile(optimizer = 'adam' , loss = 'mean_squared_error')\n"
      ],
      "execution_count": 17,
      "outputs": []
    },
    {
      "cell_type": "code",
      "metadata": {
        "colab": {
          "base_uri": "https://localhost:8080/"
        },
        "id": "Mn-fN8HpQ-bs",
        "outputId": "68eec277-2142-49cb-865b-1d3e770cc261"
      },
      "source": [
        "#Training the model\n",
        "model.fit(x_train, y_train, batch_size = 1, epochs = 1)\n"
      ],
      "execution_count": 18,
      "outputs": [
        {
          "output_type": "stream",
          "text": [
            "1543/1543 [==============================] - 54s 23ms/step - loss: 0.0021\n"
          ],
          "name": "stdout"
        },
        {
          "output_type": "execute_result",
          "data": {
            "text/plain": [
              "<keras.callbacks.History at 0x7f5d53591890>"
            ]
          },
          "metadata": {
            "tags": []
          },
          "execution_count": 18
        }
      ]
    },
    {
      "cell_type": "code",
      "metadata": {
        "id": "jAegjbx-RQjm"
      },
      "source": [
        "# Creating the testing Dataset\n",
        "#creating New array containing saled values from index 1543 to 2003\n",
        "test_data = scaled_data[training_data_len - 60: , :]\\\n",
        "# create the dataset x_tests and y_tests\n",
        "x_test = []\n",
        "y_test = dataset[training_data_len : , :]\n",
        "for i in range(60, len(test_data)):\n",
        "  x_test.append(test_data[i-60 : i, 0])\n",
        "  "
      ],
      "execution_count": 20,
      "outputs": []
    },
    {
      "cell_type": "code",
      "metadata": {
        "id": "NkLCbYCuS0Lq"
      },
      "source": [
        "#Convert data to numpy array\n",
        "x_test = np.array(x_test)\n"
      ],
      "execution_count": 21,
      "outputs": []
    },
    {
      "cell_type": "code",
      "metadata": {
        "id": "XC2wUHB7TL4M"
      },
      "source": [
        "#Reshaping the data\n",
        "x_test = np.reshape(x_test,(x_test.shape[0], x_test.shape[1], 1))"
      ],
      "execution_count": 22,
      "outputs": []
    },
    {
      "cell_type": "code",
      "metadata": {
        "id": "ntt2IACITnwd"
      },
      "source": [
        "#Gettinmg the model predicted prive valuies\n",
        "predictions = model.predict(x_test)\n",
        "predictions = scaler.inverse_transform(predictions)"
      ],
      "execution_count": 24,
      "outputs": []
    },
    {
      "cell_type": "code",
      "metadata": {
        "colab": {
          "base_uri": "https://localhost:8080/"
        },
        "id": "VxiURe21UImB",
        "outputId": "d0333f88-1f7d-4879-8743-40a020157f44"
      },
      "source": [
        "# Getiing the root mean square error (RMSE)\n",
        "rmse = np.sqrt ( np.mean(predictions - y_test)**2)\n",
        "rmse"
      ],
      "execution_count": 27,
      "outputs": [
        {
          "output_type": "execute_result",
          "data": {
            "text/plain": [
              "2.8136813163757326"
            ]
          },
          "metadata": {
            "tags": []
          },
          "execution_count": 27
        }
      ]
    },
    {
      "cell_type": "code",
      "metadata": {
        "colab": {
          "base_uri": "https://localhost:8080/",
          "height": 637
        },
        "id": "hjlhE1GJUak2",
        "outputId": "5e6389fd-875d-4f10-ab28-043066c1dea4"
      },
      "source": [
        "#plotting the data\n",
        "train = data[ :training_data_len]\n",
        "valid = data[training_data_len:]\n",
        "valid['Predictions'] = predictions\n",
        "#visualizingt the data\n",
        "plt.figure(figsize= (16,8))\n",
        "plt.title('Model')\n",
        "plt.xlabel('Date', fontsize = 18)\n",
        "plt.ylabel('Close Price in USD', fontsize = 18)\n",
        "plt.plot(train['Close'])\n",
        "plt.plot(valid[['Close', 'Predictions']])\n",
        "plt.legend(['Train', 'Val' , 'Predictions'] , loc = 'lower right')\n",
        "plt.show"
      ],
      "execution_count": 33,
      "outputs": [
        {
          "output_type": "stream",
          "text": [
            "/usr/local/lib/python3.7/dist-packages/ipykernel_launcher.py:4: SettingWithCopyWarning: \n",
            "A value is trying to be set on a copy of a slice from a DataFrame.\n",
            "Try using .loc[row_indexer,col_indexer] = value instead\n",
            "\n",
            "See the caveats in the documentation: https://pandas.pydata.org/pandas-docs/stable/user_guide/indexing.html#returning-a-view-versus-a-copy\n",
            "  after removing the cwd from sys.path.\n"
          ],
          "name": "stderr"
        },
        {
          "output_type": "execute_result",
          "data": {
            "text/plain": [
              "<function matplotlib.pyplot.show>"
            ]
          },
          "metadata": {
            "tags": []
          },
          "execution_count": 33
        },
        {
          "output_type": "display_data",
          "data": {
            "image/png": "[encoded data removed]",
            "text/plain": [
              "<Figure size 1152x576 with 1 Axes>"
            ]
          },
          "metadata": {
            "tags": [],
            "needs_background": "light"
          }
        }
      ]
    },
    {
      "cell_type": "code",
      "metadata": {
        "colab": {
          "base_uri": "https://localhost:8080/",
          "height": 450
        },
        "id": "PfQ9H-QCWjJy",
        "outputId": "7fc2eef9-c454-48dc-a118-8b7f2dcd0fdb"
      },
      "source": [
        "# Shoe the valid or Actuall price and the preditcted Price\n",
        "valid"
      ],
      "execution_count": 34,
      "outputs": [
        {
          "output_type": "execute_result",
          "data": {
            "text/html": [
              "<div>\n",
              "<style scoped>\n",
              "    .dataframe tbody tr th:only-of-type {\n",
              "        vertical-align: middle;\n",
              "    }\n",
              "\n",
              "    .dataframe tbody tr th {\n",
              "        vertical-align: top;\n",
              "    }\n",
              "\n",
              "    .dataframe thead th {\n",
              "        text-align: right;\n",
              "    }\n",
              "</style>\n",
              "<table border=\"1\" class=\"dataframe\">\n",
              "  <thead>\n",
              "    <tr style=\"text-align: right;\">\n",
              "      <th></th>\n",
              "      <th>Close</th>\n",
              "      <th>Predictions</th>\n",
              "    </tr>\n",
              "    <tr>\n",
              "      <th>Date</th>\n",
              "      <th></th>\n",
              "      <th></th>\n",
              "    </tr>\n",
              "  </thead>\n",
              "  <tbody>\n",
              "    <tr>\n",
              "      <th>2018-05-17</th>\n",
              "      <td>46.747501</td>\n",
              "      <td>49.398170</td>\n",
              "    </tr>\n",
              "    <tr>\n",
              "      <th>2018-05-18</th>\n",
              "      <td>46.577499</td>\n",
              "      <td>49.510239</td>\n",
              "    </tr>\n",
              "    <tr>\n",
              "      <th>2018-05-21</th>\n",
              "      <td>46.907501</td>\n",
              "      <td>49.552856</td>\n",
              "    </tr>\n",
              "    <tr>\n",
              "      <th>2018-05-22</th>\n",
              "      <td>46.790001</td>\n",
              "      <td>49.595081</td>\n",
              "    </tr>\n",
              "    <tr>\n",
              "      <th>2018-05-23</th>\n",
              "      <td>47.090000</td>\n",
              "      <td>49.618294</td>\n",
              "    </tr>\n",
              "    <tr>\n",
              "      <th>...</th>\n",
              "      <td>...</td>\n",
              "      <td>...</td>\n",
              "    </tr>\n",
              "    <tr>\n",
              "      <th>2019-12-11</th>\n",
              "      <td>67.692497</td>\n",
              "      <td>70.039810</td>\n",
              "    </tr>\n",
              "    <tr>\n",
              "      <th>2019-12-12</th>\n",
              "      <td>67.864998</td>\n",
              "      <td>70.257408</td>\n",
              "    </tr>\n",
              "    <tr>\n",
              "      <th>2019-12-13</th>\n",
              "      <td>68.787498</td>\n",
              "      <td>70.492195</td>\n",
              "    </tr>\n",
              "    <tr>\n",
              "      <th>2019-12-16</th>\n",
              "      <td>69.964996</td>\n",
              "      <td>70.815193</td>\n",
              "    </tr>\n",
              "    <tr>\n",
              "      <th>2019-12-17</th>\n",
              "      <td>70.102501</td>\n",
              "      <td>71.272644</td>\n",
              "    </tr>\n",
              "  </tbody>\n",
              "</table>\n",
              "<p>400 rows × 2 columns</p>\n",
              "</div>"
            ],
            "text/plain": [
              "                Close  Predictions\n",
              "Date                              \n",
              "2018-05-17  46.747501    49.398170\n",
              "2018-05-18  46.577499    49.510239\n",
              "2018-05-21  46.907501    49.552856\n",
              "2018-05-22  46.790001    49.595081\n",
              "2018-05-23  47.090000    49.618294\n",
              "...               ...          ...\n",
              "2019-12-11  67.692497    70.039810\n",
              "2019-12-12  67.864998    70.257408\n",
              "2019-12-13  68.787498    70.492195\n",
              "2019-12-16  69.964996    70.815193\n",
              "2019-12-17  70.102501    71.272644\n",
              "\n",
              "[400 rows x 2 columns]"
            ]
          },
          "metadata": {
            "tags": []
          },
          "execution_count": 34
        }
      ]
    },
    {
      "cell_type": "code",
      "metadata": {
        "id": "vpu3j_oHXyNC"
      },
      "source": [
        "#Getting the quote\n",
        "#apple_quote = pdd.DataReader('AAPL', data_source = 'yahoo' , start = '2012-01-01', end = '2019-12-17')\n",
        "#creating a new dataframe\n",
        "#new_df = apple_quote.filter(['Close'])\n"
      ],
      "execution_count": null,
      "outputs": []
    }
  ]
}